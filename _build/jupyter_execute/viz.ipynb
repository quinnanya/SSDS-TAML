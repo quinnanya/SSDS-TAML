{
 "cells": [
  {
   "cell_type": "markdown",
   "id": "7f5056f7",
   "metadata": {},
   "source": [
    "# Visualization essentials"
   ]
  },
  {
   "cell_type": "markdown",
   "id": "1d9b6ea1",
   "metadata": {},
   "source": [
    "![viz](img/viz.png)"
   ]
  },
  {
   "cell_type": "markdown",
   "id": "82ba5b19",
   "metadata": {},
   "source": [
    "After importing data, you should examine it closely. \n",
    "\n",
    "1. Look at the raw data to perform rough checks of your assumptions\n",
    "2. Computer summary statistics\n",
    "3. Produce visualizations to illustrate obvious - or not so obvious - trends in the data"
   ]
  },
  {
   "cell_type": "markdown",
   "id": "a525719d",
   "metadata": {},
   "source": [
    "## Plotting with seaborn\n",
    "\n",
    "### First, a note about matplotlib\n",
    "There are many different ways to visualize data in Python but they virtually all rely on matplotlib. You should spend some time reading through the tutorial: \n",
    "\n",
    "https://matplotlib.org/stable/tutorials/introductory/pyplot.html. \n",
    "\n",
    "Because many other libraries use matplotlib under the hood, you should familiarize yourself with the basics. For example: "
   ]
  },
  {
   "cell_type": "code",
   "execution_count": 1,
   "id": "d80badc5",
   "metadata": {
    "scrolled": true
   },
   "outputs": [
    {
     "data": {
      "image/png": "[encoded data removed]",
      "text/plain": [
       "<Figure size 432x288 with 1 Axes>"
      ]
     },
     "metadata": {
      "filenames": {
       "image/png": "/Users/evanmuzzall/Desktop/SSDS-TAML/_build/jupyter_execute/viz_4_0.png"
      },
      "needs_background": "light"
     },
     "output_type": "display_data"
    }
   ],
   "source": [
    "import matplotlib.pyplot as plt\n",
    "x = [1,2,3,4,5]\n",
    "y = [2,4,6,8,20]\n",
    "plt.scatter(x, y)\n",
    "plt.title('title')\n",
    "plt.ylabel('some numbers')\n",
    "plt.xlabel('x-axis label')\n",
    "plt.show()"
   ]
  },
  {
   "cell_type": "markdown",
   "id": "0ab32fe9",
   "metadata": {},
   "source": [
    "## Seaborn makes things easier"
   ]
  },
  {
   "cell_type": "code",
   "execution_count": 2,
   "id": "da0ae713",
   "metadata": {},
   "outputs": [
    {
     "ename": "NameError",
     "evalue": "name 'pd' is not defined",
     "output_type": "error",
     "traceback": [
      "\u001b[0;31m---------------------------------------------------------------------------\u001b[0m",
      "\u001b[0;31mNameError\u001b[0m                                 Traceback (most recent call last)",
      "\u001b[0;32m<ipython-input-2-9629fad00476>\u001b[0m in \u001b[0;36m<module>\u001b[0;34m\u001b[0m\n\u001b[1;32m      3\u001b[0m \u001b[0;34m\u001b[0m\u001b[0m\n\u001b[1;32m      4\u001b[0m \u001b[0;31m# import data\u001b[0m\u001b[0;34m\u001b[0m\u001b[0;34m\u001b[0m\u001b[0;34m\u001b[0m\u001b[0m\n\u001b[0;32m----> 5\u001b[0;31m \u001b[0mpenguins\u001b[0m \u001b[0;34m=\u001b[0m \u001b[0mpd\u001b[0m\u001b[0;34m.\u001b[0m\u001b[0mread_csv\u001b[0m\u001b[0;34m(\u001b[0m\u001b[0;34m\"data/penguins.csv\"\u001b[0m\u001b[0;34m)\u001b[0m\u001b[0;34m\u001b[0m\u001b[0;34m\u001b[0m\u001b[0m\n\u001b[0m\u001b[1;32m      6\u001b[0m \u001b[0;34m\u001b[0m\u001b[0m\n\u001b[1;32m      7\u001b[0m \u001b[0mspecies\u001b[0m \u001b[0;34m=\u001b[0m \u001b[0mpenguins\u001b[0m\u001b[0;34m[\u001b[0m\u001b[0;34m'species'\u001b[0m\u001b[0;34m]\u001b[0m\u001b[0;34m\u001b[0m\u001b[0;34m\u001b[0m\u001b[0m\n",
      "\u001b[0;31mNameError\u001b[0m: name 'pd' is not defined"
     ]
    }
   ],
   "source": [
    "# import seaborn\n",
    "import seaborn as sns\n",
    "\n",
    "# import data\n",
    "penguins = pd.read_csv(\"data/penguins.csv\")\n",
    "\n",
    "species = penguins['species']\n",
    "\n",
    "# make a bar graph of bill_length_mm by bill_depth_mm\n",
    "sns.scatterplot(data = penguins,\n",
    "                x = 'bill_length_mm', \n",
    "                y = 'bill_depth_mm', \n",
    "                hue = 'species')"
   ]
  }
 ],
 "metadata": {
  "kernelspec": {
   "display_name": "Python 3",
   "language": "python",
   "name": "python3"
  },
  "language_info": {
   "codemirror_mode": {
    "name": "ipython",
    "version": 3
   },
   "file_extension": ".py",
   "mimetype": "text/x-python",
   "name": "python",
   "nbconvert_exporter": "python",
   "pygments_lexer": "ipython3",
   "version": "3.8.8"
  }
 },
 "nbformat": 4,
 "nbformat_minor": 5
}