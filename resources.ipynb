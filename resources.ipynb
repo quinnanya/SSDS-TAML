{
 "cells": [
  {
   "cell_type": "markdown",
   "id": "32e3d9bc",
   "metadata": {},
   "source": [
    "[Pandas Data Wrangling cheatsheet](https://pandas.pydata.org/Pandas_Cheat_Sheet.pdf)\n",
    "\n",
    "[Learn HTML](https://html.com/)"
   ]
  }
 ],
 "metadata": {
  "kernelspec": {
   "display_name": "Python 3",
   "language": "python",
   "name": "python3"
  },
  "language_info": {
   "codemirror_mode": {
    "name": "ipython",
    "version": 3
   },
   "file_extension": ".py",
   "mimetype": "text/x-python",
   "name": "python",
   "nbconvert_exporter": "python",
   "pygments_lexer": "ipython3",
   "version": "3.8.8"
  }
 },
 "nbformat": 4,
 "nbformat_minor": 5
}
