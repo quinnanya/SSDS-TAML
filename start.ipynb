{
 "cells": [
  {
   "cell_type": "markdown",
   "id": "ca3db675",
   "metadata": {},
   "source": [
    "# Start coding!"
   ]
  },
  {
   "cell_type": "markdown",
   "id": "be0716a9",
   "metadata": {},
   "source": [
    "## Right click the \"Launch Binder\" button below and open it in a new browser tab. \n",
    "\n",
    "Follow these instructions in JupyterLab to start a kernel, type and run a line of code, save and export your work, and end your session. The content in JupyterLab and the JupyterBook is identical. "
   ]
  },
  {
   "cell_type": "markdown",
   "id": "59e4c79e",
   "metadata": {},
   "source": [
    "[![Binder](https://mybinder.org/badge_logo.svg)](https://mybinder.org/v2/gh/EastBayEv/SSDS-TAML/HEAD)"
   ]
  },
  {
   "cell_type": "markdown",
   "id": "2c26afee",
   "metadata": {},
   "source": [
    "## Click \"Python 3 (ipykernel)\" \n",
    "\n",
    "Click \"Python 3 (ipykernel) under the \"Notebook\" header to launch a blank notebook. \n",
    "![setkernel](img/kernel.png)"
   ]
  },
  {
   "cell_type": "markdown",
   "id": "6cab6126",
   "metadata": {},
   "source": [
    "# Cells are code by default\n",
    "\n",
    "In the first cell, type:\n",
    "    \n",
    "> print(\"Your Name Here\") "
   ]
  },
  {
   "cell_type": "markdown",
   "id": "163a3291",
   "metadata": {},
   "source": [
    "## Run the code\n",
    "\n",
    "Press `shift + enter` in JupyterLab or your local Python Anaconda installation to execute the code. "
   ]
  },
  {
   "cell_type": "markdown",
   "id": "48e94812",
   "metadata": {},
   "source": [
    "## Insert new cells\n",
    "\n",
    "Click the \"plus\" button to insert a new cell. It can be found between the \"save disk\" and \"scissors\" icons. \n",
    "![addcell](img/addcell.png)"
   ]
  },
  {
   "cell_type": "markdown",
   "id": "b248d0b0",
   "metadata": {},
   "source": [
    "## Switch between code and text cells\n",
    "\n",
    "Switch between code and text cells by clicking the dropdown menu. \n",
    "![switch](img/switch.png)"
   ]
  },
  {
   "cell_type": "markdown",
   "id": "ec650368",
   "metadata": {},
   "source": [
    "## Editing a markdown cell\n",
    "\n",
    "Double-click a markdown cell to edit it. Press `shift + enter` to render the text. \n",
    "\n",
    "Go through the cells on this page and check out [Markdown Cheatsheet](https://github.com/adam-p/markdown-here/wiki/Markdown-Cheatsheet) to explore formatting rules and shortcuts. \n",
    "\n",
    "![toc](img/toc.png)"
   ]
  },
  {
   "cell_type": "markdown",
   "id": "6bed7720",
   "metadata": {},
   "source": [
    "## Save your work\n",
    "\n",
    "Click the \"disk\" icon to save your work. Right-click the tab to give your notebook a name:\n",
    "\n",
    "![rename](img/rename.png)"
   ]
  },
  {
   "cell_type": "markdown",
   "id": "db531116",
   "metadata": {},
   "source": [
    "* Click \"File\" --> \"Download\" to save your Jupyter Notebook (extension `.ipynb`) before exiting a Jupyter Lab session. \n",
    "* There are many other options, take some time to explore the top menu and buttons.  \n",
    "\n",
    "![download](img/dl.png)"
   ]
  },
  {
   "cell_type": "markdown",
   "id": "a18f0d80",
   "metadata": {},
   "source": [
    "## Close and halt\n",
    "\n",
    "Safely close the notebook by clicking \"File\" --> \"Close and Halt\" before closing your browser."
   ]
  },
  {
   "cell_type": "markdown",
   "id": "c5a45a28",
   "metadata": {},
   "source": [
    "![closehalt](img/close.png)"
   ]
  },
  {
   "cell_type": "markdown",
   "id": "73e81cfb",
   "metadata": {},
   "source": [
    "Local Python installation\n",
    "\n",
    "Despite the many cloud-based Python Jupyter Notebook solutions, it is always good to have a local installation on your own computer. Point your web browswer here to install Python Anaconda distribution 3.9 (as of January 2022): https://www.anaconda.com/products/individual\n",
    "\n",
    "* Download the installation file for your operating system, open it, and follow the instructions to install. \n",
    "* Once installation completes, open the application named \"Anaconda Navigator\". It looks like this: \n",
    "\n",
    "![navigator](img/navigator.png)\n",
    "\n",
    "* Click the \"Launch\" button under either Jupyter Notebook or Jupyter Lab. \n",
    "* Open the `.ipynb` notebook you just downloaded from JupyterLab in your local installation and repeat the steps above."
   ]
  },
  {
   "cell_type": "markdown",
   "id": "0b87c0bd",
   "metadata": {},
   "source": [
    "## Run these materials on your local computer\n",
    "\n",
    "Copy these materials for use on your local installation. \n",
    "\n",
    "1. Visit: https://github.com/EastBayEv/SSDS-TAML\n",
    "2. Click the green \"Code\" button\n",
    "![code](img/code.png)\n",
    "3. Click \"Download ZIP\"\n",
    "![zip](img/zip.png)\n",
    "4. Extract this folder someplace familiar such as your Desktop.\n",
    "5. Open Anaconda Navigator, launch JupyterLab, and navigate your directories to launch these notebooks.\n",
    "\n",
    "## git clone\n",
    "Git users type: `git clone https://github.com/EastBayEv/SSDS-TAML.git`"
   ]
  }
 ],
 "metadata": {
  "kernelspec": {
   "display_name": "Python 3",
   "language": "python",
   "name": "python3"
  },
  "language_info": {
   "codemirror_mode": {
    "name": "ipython",
    "version": 3
   },
   "file_extension": ".py",
   "mimetype": "text/x-python",
   "name": "python",
   "nbconvert_exporter": "python",
   "pygments_lexer": "ipython3",
   "version": "3.8.8"
  }
 },
 "nbformat": 4,
 "nbformat_minor": 5
}
