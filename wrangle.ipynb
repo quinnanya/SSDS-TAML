{
 "cells": [
  {
   "cell_type": "markdown",
   "id": "f540f43d",
   "metadata": {},
   "source": [
    "# Data wrangling"
   ]
  },
  {
   "cell_type": "markdown",
   "id": "f7edf111",
   "metadata": {},
   "source": [
    "![wrangle](img/wrangle.png)"
   ]
  },
  {
   "cell_type": "code",
   "execution_count": null,
   "id": "845b6ac8",
   "metadata": {},
   "outputs": [],
   "source": []
  }
 ],
 "metadata": {
  "kernelspec": {
   "display_name": "Python 3",
   "language": "python",
   "name": "python3"
  },
  "language_info": {
   "codemirror_mode": {
    "name": "ipython",
    "version": 3
   },
   "file_extension": ".py",
   "mimetype": "text/x-python",
   "name": "python",
   "nbconvert_exporter": "python",
   "pygments_lexer": "ipython3",
   "version": "3.8.8"
  }
 },
 "nbformat": 4,
 "nbformat_minor": 5
}
